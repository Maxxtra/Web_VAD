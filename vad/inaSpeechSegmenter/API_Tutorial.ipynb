{
 "cells": [
  {
   "cell_type": "code",
   "execution_count": 1,
   "metadata": {},
   "outputs": [],
   "source": [
    "# Load the API\n",
    "from inaSpeechSegmenter import Segmenter\n",
    "from inaSpeechSegmenter.export_funcs import seg2csv, seg2textgrid"
   ]
  },
  {
   "cell_type": "code",
   "execution_count": 2,
   "metadata": {},
   "outputs": [],
   "source": [
    "# select a media to analyse\n",
    "# any media supported by ffmpeg may be used (video, audio, urls)\n",
    "media = './media/musanmix.mp3'"
   ]
  },
  {
   "cell_type": "code",
   "execution_count": 3,
   "metadata": {},
   "outputs": [
    {
     "name": "stderr",
     "output_type": "stream",
     "text": [
      "2022-08-11 07:37:34.173145: E tensorflow/stream_executor/cuda/cuda_driver.cc:271] failed call to cuInit: CUDA_ERROR_SYSTEM_DRIVER_MISMATCH: system has unsupported display driver / cuda driver combination\n",
      "2022-08-11 07:37:34.173238: I tensorflow/stream_executor/cuda/cuda_diagnostics.cc:169] retrieving CUDA diagnostic information for host: ubuntu-maxtra\n",
      "2022-08-11 07:37:34.173263: I tensorflow/stream_executor/cuda/cuda_diagnostics.cc:176] hostname: ubuntu-maxtra\n",
      "2022-08-11 07:37:34.173518: I tensorflow/stream_executor/cuda/cuda_diagnostics.cc:200] libcuda reported version is: 510.73.5\n",
      "2022-08-11 07:37:34.173592: I tensorflow/stream_executor/cuda/cuda_diagnostics.cc:204] kernel reported version is: 515.48.7\n",
      "2022-08-11 07:37:34.173613: E tensorflow/stream_executor/cuda/cuda_diagnostics.cc:313] kernel version 515.48.7 does not match DSO version 510.73.5 -- cannot find working devices in this configuration\n",
      "2022-08-11 07:37:34.176982: I tensorflow/core/platform/cpu_feature_guard.cc:193] This TensorFlow binary is optimized with oneAPI Deep Neural Network Library (oneDNN) to use the following CPU instructions in performance-critical operations:  AVX2 FMA\n",
      "To enable them in other operations, rebuild TensorFlow with the appropriate compiler flags.\n"
     ]
    }
   ],
   "source": [
    "# create an instance of speech segmenter\n",
    "# this loads neural networks and may last few seconds\n",
    "# Warnings have no incidence on the results\n",
    "seg = Segmenter()"
   ]
  },
  {
   "cell_type": "code",
   "execution_count": 4,
   "metadata": {},
   "outputs": [
    {
     "name": "stderr",
     "output_type": "stream",
     "text": [
      "/home/alex/.local/lib/python3.10/site-packages/pyannote/algorithms/utils/viterbi.py:86: FutureWarning: arrays to stack must be passed as a \"sequence\" type such as list or tuple. Support for non-sequence iterables such as generators is deprecated as of NumPy 1.16 and will raise an error in the future.\n",
      "  return np.vstack(\n",
      "/home/alex/.local/lib/python3.10/site-packages/pyannote/algorithms/utils/viterbi.py:95: FutureWarning: arrays to stack must be passed as a \"sequence\" type such as list or tuple. Support for non-sequence iterables such as generators is deprecated as of NumPy 1.16 and will raise an error in the future.\n",
      "  return np.vstack(\n",
      "2022-08-11 07:37:36.743937: W tensorflow/core/framework/cpu_allocator_impl.cc:82] Allocation of 16159248 exceeds 10% of free system memory.\n"
     ]
    },
    {
     "name": "stdout",
     "output_type": "stream",
     "text": [
      "89/89 [==============================] - 3s 16ms/step\n",
      "15/15 [==============================] - 1s 68ms/step\n"
     ]
    }
   ],
   "source": [
    "# segmentation is performed using the __call__ method of the segmenter instance\n",
    "segmentation = seg(media)"
   ]
  },
  {
   "cell_type": "code",
   "execution_count": 5,
   "metadata": {},
   "outputs": [
    {
     "name": "stdout",
     "output_type": "stream",
     "text": [
      "[('music', 0.0, 22.48), ('noEnergy', 22.48, 29.080000000000002), ('noise', 29.080000000000002, 52.800000000000004), ('noEnergy', 52.800000000000004, 54.78), ('noise', 54.78, 55.74), ('noEnergy', 55.74, 63.34), ('male', 63.34, 68.26), ('noEnergy', 68.26, 68.92), ('male', 68.92, 71.60000000000001), ('noEnergy', 71.60000000000001, 72.0), ('male', 72.0, 73.82000000000001), ('noEnergy', 73.82000000000001, 74.5)]\n"
     ]
    }
   ],
   "source": [
    "# the result is a list of tuples\n",
    "# each tuple contains:\n",
    "# * label in 'male', 'female', 'music', 'noEnergy'\n",
    "# * start time of the segment\n",
    "# * end time of the segment\n",
    "print(segmentation)"
   ]
  },
  {
   "cell_type": "code",
   "execution_count": 6,
   "metadata": {},
   "outputs": [],
   "source": [
    "# this writes the resulting segmentation into a csvfile\n",
    "# the csv file may be used to import segmentation into visualization softwares,\n",
    "# such as sonic-visualiser: https://www.sonicvisualiser.org\n",
    "seg2csv(segmentation, 'myseg.csv')"
   ]
  },
  {
   "cell_type": "code",
   "execution_count": 7,
   "metadata": {},
   "outputs": [
    {
     "name": "stdout",
     "output_type": "stream",
     "text": [
      "labels\tstart\tstop\r\n",
      "music\t0.0\t22.48\r\n",
      "noEnergy\t22.48\t29.080000000000002\r\n",
      "noise\t29.080000000000002\t52.800000000000004\r\n",
      "noEnergy\t52.800000000000004\t54.78\r\n",
      "noise\t54.78\t55.74\r\n",
      "noEnergy\t55.74\t63.34\r\n",
      "male\t63.34\t68.26\r\n",
      "noEnergy\t68.26\t68.92\r\n",
      "male\t68.92\t71.60000000000001\r\n",
      "noEnergy\t71.60000000000001\t72.0\r\n",
      "male\t72.0\t73.82000000000001\r\n",
      "noEnergy\t73.82000000000001\t74.5\r\n"
     ]
    }
   ],
   "source": [
    "# Here is the resulting CSV\n",
    "!cat myseg.csv"
   ]
  },
  {
   "cell_type": "code",
   "execution_count": 8,
   "metadata": {},
   "outputs": [],
   "source": [
    "# export to praat TextGrid is also supported\n",
    "seg2textgrid(segmentation, 'myseg.TextGrid')"
   ]
  },
  {
   "cell_type": "code",
   "execution_count": 9,
   "metadata": {},
   "outputs": [
    {
     "name": "stdout",
     "output_type": "stream",
     "text": [
      "File type = \"ooTextFile\"\r\n",
      "Object class = \"TextGrid\"\r\n",
      "\r\n",
      "xmin = 0.000000\r\n",
      "xmax = 74.500000\r\n",
      "tiers? <exists> \r\n",
      "size = 1\r\n",
      "item []:\r\n",
      "\titem [1]:\r\n",
      "\t\tclass = \"IntervalTier\"\r\n",
      "\t\tname = \"inaSpeechSegmenter\"\r\n",
      "\t\txmin = 0.000000\r\n",
      "\t\txmax = 74.500000\r\n",
      "\t\tintervals: size = 12\r\n",
      "\t\tintervals[1]:\r\n",
      "\t\t\t xmin = 0.000000\r\n",
      "\t\t\t xmax = 22.480000\r\n",
      "\t\t\t text = \"music\"\r\n",
      "\t\tintervals[2]:\r\n",
      "\t\t\t xmin = 22.480000\r\n",
      "\t\t\t xmax = 29.080000\r\n",
      "\t\t\t text = \"noEnergy\"\r\n",
      "\t\tintervals[3]:\r\n",
      "\t\t\t xmin = 29.080000\r\n",
      "\t\t\t xmax = 52.800000\r\n",
      "\t\t\t text = \"noise\"\r\n",
      "\t\tintervals[4]:\r\n",
      "\t\t\t xmin = 52.800000\r\n",
      "\t\t\t xmax = 54.780000\r\n",
      "\t\t\t text = \"noEnergy\"\r\n",
      "\t\tintervals[5]:\r\n",
      "\t\t\t xmin = 54.780000\r\n",
      "\t\t\t xmax = 55.740000\r\n",
      "\t\t\t text = \"noise\"\r\n",
      "\t\tintervals[6]:\r\n",
      "\t\t\t xmin = 55.740000\r\n",
      "\t\t\t xmax = 63.340000\r\n",
      "\t\t\t text = \"noEnergy\"\r\n",
      "\t\tintervals[7]:\r\n",
      "\t\t\t xmin = 63.340000\r\n",
      "\t\t\t xmax = 68.260000\r\n",
      "\t\t\t text = \"male\"\r\n",
      "\t\tintervals[8]:\r\n",
      "\t\t\t xmin = 68.260000\r\n",
      "\t\t\t xmax = 68.920000\r\n",
      "\t\t\t text = \"noEnergy\"\r\n",
      "\t\tintervals[9]:\r\n",
      "\t\t\t xmin = 68.920000\r\n",
      "\t\t\t xmax = 71.600000\r\n",
      "\t\t\t text = \"male\"\r\n",
      "\t\tintervals[10]:\r\n",
      "\t\t\t xmin = 71.600000\r\n",
      "\t\t\t xmax = 72.000000\r\n",
      "\t\t\t text = \"noEnergy\"\r\n",
      "\t\tintervals[11]:\r\n",
      "\t\t\t xmin = 72.000000\r\n",
      "\t\t\t xmax = 73.820000\r\n",
      "\t\t\t text = \"male\"\r\n",
      "\t\tintervals[12]:\r\n",
      "\t\t\t xmin = 73.820000\r\n",
      "\t\t\t xmax = 74.500000\r\n",
      "\t\t\t text = \"noEnergy\"\r\n"
     ]
    }
   ],
   "source": [
    "!cat myseg.TextGrid"
   ]
  },
  {
   "cell_type": "code",
   "execution_count": null,
   "metadata": {},
   "outputs": [],
   "source": []
  }
 ],
 "metadata": {
  "kernelspec": {
   "display_name": "Python 3 (ipykernel)",
   "language": "python",
   "name": "python3"
  },
  "language_info": {
   "codemirror_mode": {
    "name": "ipython",
    "version": 3
   },
   "file_extension": ".py",
   "mimetype": "text/x-python",
   "name": "python",
   "nbconvert_exporter": "python",
   "pygments_lexer": "ipython3",
   "version": "3.10.4"
  }
 },
 "nbformat": 4,
 "nbformat_minor": 2
}
